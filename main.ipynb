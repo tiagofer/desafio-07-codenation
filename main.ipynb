{
 "cells": [
  {
   "cell_type": "markdown",
   "metadata": {},
   "source": [
    "# Desafio 6\n",
    "\n",
    "Neste desafio, vamos praticar _feature engineering_, um dos processos mais importantes e trabalhosos de ML. Utilizaremos o _data set_ [Countries of the world](https://www.kaggle.com/fernandol/countries-of-the-world), que contém dados sobre os 227 países do mundo com informações sobre tamanho da população, área, imigração e setores de produção.\n",
    "\n",
    "> Obs.: Por favor, não modifique o nome das funções de resposta."
   ]
  },
  {
   "cell_type": "markdown",
   "metadata": {},
   "source": [
    "## _Setup_ geral"
   ]
  },
  {
   "cell_type": "code",
   "execution_count": 347,
   "metadata": {},
   "outputs": [],
   "source": [
    "import pandas as pd\n",
    "import numpy as np\n",
    "import seaborn as sns\n",
    "from sklearn.preprocessing import (KBinsDiscretizer,OneHotEncoder,StandardScaler)\n",
    "from sklearn.impute import SimpleImputer\n",
    "from sklearn.pipeline import Pipeline\n",
    "from sklearn.compose import ColumnTransformer\n",
    "from sklearn.datasets import fetch_20newsgroups\n",
    "from sklearn.feature_extraction.text import (CountVectorizer,TfidfVectorizer,TfidfTransformer)"
   ]
  },
  {
   "cell_type": "code",
   "execution_count": 98,
   "metadata": {},
   "outputs": [],
   "source": [
    "# Algumas configurações para o matplotlib.\n",
    "#%matplotlib inline\n",
    "\n",
    "from IPython.core.pylabtools import figsize\n",
    "\n",
    "\n",
    "figsize(12, 8)\n",
    "\n",
    "sns.set()"
   ]
  },
  {
   "cell_type": "code",
   "execution_count": 4,
   "metadata": {},
   "outputs": [],
   "source": [
    "countries = pd.read_csv(\"countries.csv\",decimal=',')"
   ]
  },
  {
   "cell_type": "code",
   "execution_count": 5,
   "metadata": {},
   "outputs": [
    {
     "data": {
      "text/html": "<div>\n<style scoped>\n    .dataframe tbody tr th:only-of-type {\n        vertical-align: middle;\n    }\n\n    .dataframe tbody tr th {\n        vertical-align: top;\n    }\n\n    .dataframe thead th {\n        text-align: right;\n    }\n</style>\n<table border=\"1\" class=\"dataframe\">\n  <thead>\n    <tr style=\"text-align: right;\">\n      <th></th>\n      <th>Country</th>\n      <th>Region</th>\n      <th>Population</th>\n      <th>Area</th>\n      <th>Pop_density</th>\n      <th>Coastline_ratio</th>\n      <th>Net_migration</th>\n      <th>Infant_mortality</th>\n      <th>GDP</th>\n      <th>Literacy</th>\n      <th>Phones_per_1000</th>\n      <th>Arable</th>\n      <th>Crops</th>\n      <th>Other</th>\n      <th>Climate</th>\n      <th>Birthrate</th>\n      <th>Deathrate</th>\n      <th>Agriculture</th>\n      <th>Industry</th>\n      <th>Service</th>\n    </tr>\n  </thead>\n  <tbody>\n    <tr>\n      <th>0</th>\n      <td>Afghanistan</td>\n      <td>ASIA (EX. NEAR EAST)</td>\n      <td>31056997</td>\n      <td>647500</td>\n      <td>48.0</td>\n      <td>0.00</td>\n      <td>23.06</td>\n      <td>163.07</td>\n      <td>700.0</td>\n      <td>36.0</td>\n      <td>3.2</td>\n      <td>12.13</td>\n      <td>0.22</td>\n      <td>87.65</td>\n      <td>1.0</td>\n      <td>46.60</td>\n      <td>20.34</td>\n      <td>0.380</td>\n      <td>0.240</td>\n      <td>0.380</td>\n    </tr>\n    <tr>\n      <th>1</th>\n      <td>Albania</td>\n      <td>EASTERN EUROPE</td>\n      <td>3581655</td>\n      <td>28748</td>\n      <td>124.6</td>\n      <td>1.26</td>\n      <td>-4.93</td>\n      <td>21.52</td>\n      <td>4500.0</td>\n      <td>86.5</td>\n      <td>71.2</td>\n      <td>21.09</td>\n      <td>4.42</td>\n      <td>74.49</td>\n      <td>3.0</td>\n      <td>15.11</td>\n      <td>5.22</td>\n      <td>0.232</td>\n      <td>0.188</td>\n      <td>0.579</td>\n    </tr>\n    <tr>\n      <th>2</th>\n      <td>Algeria</td>\n      <td>NORTHERN AFRICA</td>\n      <td>32930091</td>\n      <td>2381740</td>\n      <td>13.8</td>\n      <td>0.04</td>\n      <td>-0.39</td>\n      <td>31.00</td>\n      <td>6000.0</td>\n      <td>70.0</td>\n      <td>78.1</td>\n      <td>3.22</td>\n      <td>0.25</td>\n      <td>96.53</td>\n      <td>1.0</td>\n      <td>17.14</td>\n      <td>4.61</td>\n      <td>0.101</td>\n      <td>0.600</td>\n      <td>0.298</td>\n    </tr>\n    <tr>\n      <th>3</th>\n      <td>American Samoa</td>\n      <td>OCEANIA</td>\n      <td>57794</td>\n      <td>199</td>\n      <td>290.4</td>\n      <td>58.29</td>\n      <td>-20.71</td>\n      <td>9.27</td>\n      <td>8000.0</td>\n      <td>97.0</td>\n      <td>259.5</td>\n      <td>10.00</td>\n      <td>15.00</td>\n      <td>75.00</td>\n      <td>2.0</td>\n      <td>22.46</td>\n      <td>3.27</td>\n      <td>NaN</td>\n      <td>NaN</td>\n      <td>NaN</td>\n    </tr>\n    <tr>\n      <th>4</th>\n      <td>Andorra</td>\n      <td>WESTERN EUROPE</td>\n      <td>71201</td>\n      <td>468</td>\n      <td>152.1</td>\n      <td>0.00</td>\n      <td>6.60</td>\n      <td>4.05</td>\n      <td>19000.0</td>\n      <td>100.0</td>\n      <td>497.2</td>\n      <td>2.22</td>\n      <td>0.00</td>\n      <td>97.78</td>\n      <td>3.0</td>\n      <td>8.71</td>\n      <td>6.25</td>\n      <td>NaN</td>\n      <td>NaN</td>\n      <td>NaN</td>\n    </tr>\n  </tbody>\n</table>\n</div>",
      "text/plain": "           Country                               Region  Population     Area  \\\n0     Afghanistan         ASIA (EX. NEAR EAST)             31056997   647500   \n1         Albania   EASTERN EUROPE                          3581655    28748   \n2         Algeria   NORTHERN AFRICA                        32930091  2381740   \n3  American Samoa   OCEANIA                                   57794      199   \n4         Andorra   WESTERN EUROPE                            71201      468   \n\n   Pop_density  Coastline_ratio  Net_migration  Infant_mortality      GDP  \\\n0         48.0             0.00          23.06            163.07    700.0   \n1        124.6             1.26          -4.93             21.52   4500.0   \n2         13.8             0.04          -0.39             31.00   6000.0   \n3        290.4            58.29         -20.71              9.27   8000.0   \n4        152.1             0.00           6.60              4.05  19000.0   \n\n   Literacy  Phones_per_1000  Arable  Crops  Other  Climate  Birthrate  \\\n0      36.0              3.2   12.13   0.22  87.65      1.0      46.60   \n1      86.5             71.2   21.09   4.42  74.49      3.0      15.11   \n2      70.0             78.1    3.22   0.25  96.53      1.0      17.14   \n3      97.0            259.5   10.00  15.00  75.00      2.0      22.46   \n4     100.0            497.2    2.22   0.00  97.78      3.0       8.71   \n\n   Deathrate  Agriculture  Industry  Service  \n0      20.34        0.380     0.240    0.380  \n1       5.22        0.232     0.188    0.579  \n2       4.61        0.101     0.600    0.298  \n3       3.27          NaN       NaN      NaN  \n4       6.25          NaN       NaN      NaN  "
     },
     "execution_count": 5,
     "metadata": {},
     "output_type": "execute_result"
    }
   ],
   "source": [
    "new_column_names = [\n",
    "    \"Country\", \"Region\", \"Population\", \"Area\", \"Pop_density\", \"Coastline_ratio\",\n",
    "    \"Net_migration\", \"Infant_mortality\", \"GDP\", \"Literacy\", \"Phones_per_1000\",\n",
    "    \"Arable\", \"Crops\", \"Other\", \"Climate\", \"Birthrate\", \"Deathrate\", \"Agriculture\",\n",
    "    \"Industry\", \"Service\"\n",
    "]\n",
    "\n",
    "countries.columns = new_column_names\n",
    "\n",
    "countries.head(5)"
   ]
  },
  {
   "cell_type": "code",
   "execution_count": 6,
   "metadata": {},
   "outputs": [
    {
     "data": {
      "text/html": "<div>\n<style scoped>\n    .dataframe tbody tr th:only-of-type {\n        vertical-align: middle;\n    }\n\n    .dataframe tbody tr th {\n        vertical-align: top;\n    }\n\n    .dataframe thead th {\n        text-align: right;\n    }\n</style>\n<table border=\"1\" class=\"dataframe\">\n  <thead>\n    <tr style=\"text-align: right;\">\n      <th></th>\n      <th>Country</th>\n      <th>Region</th>\n      <th>Population</th>\n      <th>Area</th>\n      <th>Pop_density</th>\n      <th>Coastline_ratio</th>\n      <th>Net_migration</th>\n      <th>Infant_mortality</th>\n      <th>GDP</th>\n      <th>Literacy</th>\n      <th>Phones_per_1000</th>\n      <th>Arable</th>\n      <th>Crops</th>\n      <th>Other</th>\n      <th>Climate</th>\n      <th>Birthrate</th>\n      <th>Deathrate</th>\n      <th>Agriculture</th>\n      <th>Industry</th>\n      <th>Service</th>\n    </tr>\n  </thead>\n  <tbody>\n    <tr>\n      <th>0</th>\n      <td>Afghanistan</td>\n      <td>ASIA (EX. NEAR EAST)</td>\n      <td>31056997</td>\n      <td>647500</td>\n      <td>48.0</td>\n      <td>0.00</td>\n      <td>23.06</td>\n      <td>163.07</td>\n      <td>700.0</td>\n      <td>36.0</td>\n      <td>3.2</td>\n      <td>12.13</td>\n      <td>0.22</td>\n      <td>87.65</td>\n      <td>1.0</td>\n      <td>46.60</td>\n      <td>20.34</td>\n      <td>0.380</td>\n      <td>0.240</td>\n      <td>0.380</td>\n    </tr>\n    <tr>\n      <th>1</th>\n      <td>Albania</td>\n      <td>EASTERN EUROPE</td>\n      <td>3581655</td>\n      <td>28748</td>\n      <td>124.6</td>\n      <td>1.26</td>\n      <td>-4.93</td>\n      <td>21.52</td>\n      <td>4500.0</td>\n      <td>86.5</td>\n      <td>71.2</td>\n      <td>21.09</td>\n      <td>4.42</td>\n      <td>74.49</td>\n      <td>3.0</td>\n      <td>15.11</td>\n      <td>5.22</td>\n      <td>0.232</td>\n      <td>0.188</td>\n      <td>0.579</td>\n    </tr>\n    <tr>\n      <th>2</th>\n      <td>Algeria</td>\n      <td>NORTHERN AFRICA</td>\n      <td>32930091</td>\n      <td>2381740</td>\n      <td>13.8</td>\n      <td>0.04</td>\n      <td>-0.39</td>\n      <td>31.00</td>\n      <td>6000.0</td>\n      <td>70.0</td>\n      <td>78.1</td>\n      <td>3.22</td>\n      <td>0.25</td>\n      <td>96.53</td>\n      <td>1.0</td>\n      <td>17.14</td>\n      <td>4.61</td>\n      <td>0.101</td>\n      <td>0.600</td>\n      <td>0.298</td>\n    </tr>\n    <tr>\n      <th>3</th>\n      <td>American Samoa</td>\n      <td>OCEANIA</td>\n      <td>57794</td>\n      <td>199</td>\n      <td>290.4</td>\n      <td>58.29</td>\n      <td>-20.71</td>\n      <td>9.27</td>\n      <td>8000.0</td>\n      <td>97.0</td>\n      <td>259.5</td>\n      <td>10.00</td>\n      <td>15.00</td>\n      <td>75.00</td>\n      <td>2.0</td>\n      <td>22.46</td>\n      <td>3.27</td>\n      <td>NaN</td>\n      <td>NaN</td>\n      <td>NaN</td>\n    </tr>\n    <tr>\n      <th>4</th>\n      <td>Andorra</td>\n      <td>WESTERN EUROPE</td>\n      <td>71201</td>\n      <td>468</td>\n      <td>152.1</td>\n      <td>0.00</td>\n      <td>6.60</td>\n      <td>4.05</td>\n      <td>19000.0</td>\n      <td>100.0</td>\n      <td>497.2</td>\n      <td>2.22</td>\n      <td>0.00</td>\n      <td>97.78</td>\n      <td>3.0</td>\n      <td>8.71</td>\n      <td>6.25</td>\n      <td>NaN</td>\n      <td>NaN</td>\n      <td>NaN</td>\n    </tr>\n  </tbody>\n</table>\n</div>",
      "text/plain": "          Country                Region  Population     Area  Pop_density  \\\n0     Afghanistan  ASIA (EX. NEAR EAST)    31056997   647500         48.0   \n1         Albania        EASTERN EUROPE     3581655    28748        124.6   \n2         Algeria       NORTHERN AFRICA    32930091  2381740         13.8   \n3  American Samoa               OCEANIA       57794      199        290.4   \n4         Andorra        WESTERN EUROPE       71201      468        152.1   \n\n   Coastline_ratio  Net_migration  Infant_mortality      GDP  Literacy  \\\n0             0.00          23.06            163.07    700.0      36.0   \n1             1.26          -4.93             21.52   4500.0      86.5   \n2             0.04          -0.39             31.00   6000.0      70.0   \n3            58.29         -20.71              9.27   8000.0      97.0   \n4             0.00           6.60              4.05  19000.0     100.0   \n\n   Phones_per_1000  Arable  Crops  Other  Climate  Birthrate  Deathrate  \\\n0              3.2   12.13   0.22  87.65      1.0      46.60      20.34   \n1             71.2   21.09   4.42  74.49      3.0      15.11       5.22   \n2             78.1    3.22   0.25  96.53      1.0      17.14       4.61   \n3            259.5   10.00  15.00  75.00      2.0      22.46       3.27   \n4            497.2    2.22   0.00  97.78      3.0       8.71       6.25   \n\n   Agriculture  Industry  Service  \n0        0.380     0.240    0.380  \n1        0.232     0.188    0.579  \n2        0.101     0.600    0.298  \n3          NaN       NaN      NaN  \n4          NaN       NaN      NaN  "
     },
     "execution_count": 6,
     "metadata": {},
     "output_type": "execute_result"
    }
   ],
   "source": [
    "#remove blank space \n",
    "countries['Country'] = countries['Country'].str.strip()\n",
    "countries['Region'] = countries['Region'].str.strip()\n",
    "countries.head(5)"
   ]
  },
  {
   "cell_type": "markdown",
   "metadata": {},
   "source": [
    "## Observações\n",
    "\n",
    "Esse _data set_ ainda precisa de alguns ajustes iniciais. Primeiro, note que as variáveis numéricas estão usando vírgula como separador decimal e estão codificadas como strings. Corrija isso antes de continuar: transforme essas variáveis em numéricas adequadamente.\n",
    "\n",
    "Além disso, as variáveis `Country` e `Region` possuem espaços a mais no começo e no final da string. Você pode utilizar o método `str.strip()` para remover esses espaços."
   ]
  },
  {
   "cell_type": "markdown",
   "metadata": {},
   "source": [
    "## Inicia sua análise a partir daqui"
   ]
  },
  {
   "cell_type": "code",
   "execution_count": 7,
   "metadata": {},
   "outputs": [
    {
     "data": {
      "text/plain": "array(['ASIA (EX. NEAR EAST)', 'BALTICS', 'C.W. OF IND. STATES',\n       'EASTERN EUROPE', 'LATIN AMER. & CARIB', 'NEAR EAST',\n       'NORTHERN AFRICA', 'NORTHERN AMERICA', 'OCEANIA',\n       'SUB-SAHARAN AFRICA', 'WESTERN EUROPE'], dtype=object)"
     },
     "execution_count": 7,
     "metadata": {},
     "output_type": "execute_result"
    }
   ],
   "source": [
    "# Sua análise começa aqui.\n",
    "#q1()\n",
    "countries['Region'].sort_values().unique()"
   ]
  },
  {
   "cell_type": "code",
   "execution_count": 89,
   "metadata": {},
   "outputs": [
    {
     "name": "stdout",
     "output_type": "stream",
     "text": "\nSolução Kazuki\n0.0 ⊢ 10.14: 23\n10.14 ⊢ 21.22: 23\n21.22 ⊢ 39.48: 22\n39.48 ⊢ 59.8: 23\n59.8 ⊢ 78.8: 22\n78.8 ⊢ 105.54: 23\n105.54 ⊢ 150.12: 23\n150.12 ⊢ 253.7: 22\n253.7 ⊢ 396.74: 23\n396.74 ⊢ 16271.5: 23\n\nResposta utilizando Dataframe\n"
    },
    {
     "data": {
      "text/plain": "23"
     },
     "execution_count": 89,
     "metadata": {},
     "output_type": "execute_result"
    }
   ],
   "source": [
    "#q2() - Discretizando a variável Pop_density em 10 intervalos com KBinsDiscretizer, seguindo o encode ordinal e estratégia quantile,#quantos países se encontram acima do 90º percentil? Responda como um único escalar inteiro.\n",
    "def get_inverval(bin_idx,bin_edges):\n",
    "    return f\"{np.round(bin_edges[bin_idx],2)} ⊢ {np.round(bin_edges[bin_idx+1],2)}\"\n",
    "\n",
    "discretizer = KBinsDiscretizer(n_bins=10,encode='ordinal',strategy='quantile')\n",
    "discretizer.fit(countries[['Pop_density']])\n",
    "score_bins = discretizer.transform(countries[['Pop_density']])\n",
    "\n",
    "print(\"\\nSolução Kazuki\")\n",
    "for i in range(len(discretizer.bin_edges_[0])-1):\n",
    "    print(f\"{get_inverval(i,discretizer.bin_edges_[0])}: {sum(score_bins[:,0] == i)}\")\n",
    "\n",
    "print(\"\\nResposta utilizando Dataframe\")\n",
    "dis_coutries = countries.copy()\n",
    "dis_coutries['bins'] = score_bins\n",
    "int(dis_coutries.groupby('bins').count().loc[9]['Pop_density'])"
   ]
  },
  {
   "cell_type": "code",
   "execution_count": 126,
   "metadata": {},
   "outputs": [
    {
     "data": {
      "text/plain": "18"
     },
     "execution_count": 126,
     "metadata": {},
     "output_type": "execute_result"
    }
   ],
   "source": [
    "#Se codificarmos as variáveis `Region` e `Climate` usando _one-hot encoding_, quantos novos atributos seriam criados? Responda como um único escalar.\n",
    "q3_df = countries.copy()\n",
    "imputer = SimpleImputer(missing_values=np.nan,strategy='constant',fill_value=0)\n",
    "inputed_climate = imputer.fit_transform(countries[['Climate']])\n",
    "q3_df['Climate'] = inputed_climate\n",
    "one_hot_encoder = OneHotEncoder(sparse=False, dtype=np.int)\n",
    "one_hot_encoder.fit_transform(q3_df[['Region']])\n",
    "att_region = len(one_hot_encoder.categories_[0])\n",
    "one_hot_encoder.fit_transform(q3_df[['Climate']])\n",
    "att_climate = len(one_hot_encoder.categories_[0])\n",
    "att_climate + att_region"
   ]
  },
  {
   "cell_type": "code",
   "execution_count": 329,
   "metadata": {},
   "outputs": [
    {
     "data": {
      "text/plain": "-1.047"
     },
     "execution_count": 329,
     "metadata": {},
     "output_type": "execute_result"
    }
   ],
   "source": [
    "# Questão 4\n",
    "#Aplique o seguinte _pipeline_:\n",
    "#1. Preencha as variáveis do tipo `int64` e `float64` com suas respectivas medianas.\n",
    "#2. Padronize essas variáveis.\n",
    "#Após aplicado o _pipeline_ descrito acima aos dados (somente nas variáveis dos tipos especificados), aplique o mesmo _pipeline_ (ou `ColumnTransformer`) ao dado abaixo. Qual o valor da variável `Arable` após o _pipeline_? Responda como um único float arredondado para três casas decimais.\n",
    "test_country = [\n",
    "    'Test Country', 'NEAR EAST', -0.19032480757326514,\n",
    "    -0.3232636124824411, -0.04421734470810142, -0.27528113360605316,\n",
    "    0.13255850810281325, -0.8054845935643491, 1.0119784924248225,\n",
    "    0.6189182532646624, 1.0074863283776458, 0.20239896852403538,\n",
    "    -0.043678728558593366, -0.13929748680369286, 1.3163604645710438,\n",
    "    -0.3699637766938669, -0.6149300604558857, -0.854369594993175,\n",
    "    0.263445277972641, 0.5712416961268142\n",
    "]\n",
    "#create test DF\n",
    "df_test = pd.DataFrame([test_country],columns=countries.columns)\n",
    "\n",
    "#select numeric columns\n",
    "num_columns = countries.select_dtypes(include=['int64','float64']).columns\n",
    "\n",
    "#create numeric pipeline\n",
    "num_pipe = Pipeline(steps=[\n",
    "    ('imputer',SimpleImputer(strategy='median')),\n",
    "    ('standard',StandardScaler())\n",
    "])\n",
    "\n",
    "#create a preprocessor in numeric columns\n",
    "preprocessor = ColumnTransformer(transformers=[\n",
    "    ('numeric_feature',num_pipe,num_columns)\n",
    "])\n",
    "\n",
    "#apply preprocessor in countries df\n",
    "fit_pre = preprocessor.fit(countries)\n",
    "\n",
    "#apply preprocessor in test df\n",
    "test_result = fit_pre.transform(df_test)\n",
    "\n",
    "round(test_result[0][9],3)"
   ]
  },
  {
   "cell_type": "code",
   "execution_count": 345,
   "metadata": {},
   "outputs": [
    {
     "data": {
      "text/plain": "(24, 26, False)"
     },
     "execution_count": 345,
     "metadata": {},
     "output_type": "execute_result"
    }
   ],
   "source": [
    "#q5 - Remoção de outliers da coluna Net_migration\n",
    "net_migration = countries.Net_migration.copy()\n",
    "qt1 = net_migration.quantile(0.25)\n",
    "qt3 = net_migration.quantile(0.75)\n",
    "iqr = qt3 - qt1\n",
    "non_outlier = [qt1-1.5*iqr,qt3+1.5*iqr]\n",
    "outliers = (len(net_migration[net_migration<non_outlier[0]]),\n",
    "              len(net_migration[net_migration>non_outlier[1]]), False)\n",
    "outliers"
   ]
  },
  {
   "cell_type": "code",
   "execution_count": 348,
   "metadata": {},
   "outputs": [],
   "source": [
    "#q6 - contar palavra phone\n",
    "categories = ['sci.electronics', 'comp.graphics', 'rec.motorcycles']\n",
    "newsgroup = fetch_20newsgroups(subset=\"train\", categories=categories, shuffle=True, random_state=42)"
   ]
  },
  {
   "cell_type": "code",
   "execution_count": 364,
   "metadata": {},
   "outputs": [
    {
     "data": {
      "text/plain": "213"
     },
     "execution_count": 364,
     "metadata": {},
     "output_type": "execute_result"
    }
   ],
   "source": [
    "#q6\n",
    "count_vectorizer = CountVectorizer()\n",
    "newsgroup_counts = count_vectorizer.fit_transform(newsgroup.data)\n",
    "phone_idx = count_vectorizer.vocabulary_.get('phone')\n",
    "pd.DataFrame(newsgroup_counts[:,phone_idx].toarray(),columns=['phone']).sum()[0]"
   ]
  },
  {
   "cell_type": "code",
   "execution_count": 372,
   "metadata": {},
   "outputs": [
    {
     "data": {
      "text/plain": "float"
     },
     "execution_count": 372,
     "metadata": {},
     "output_type": "execute_result"
    }
   ],
   "source": [
    "#q7\n",
    "tfidf_vectorizer = TfidfVectorizer()\n",
    "tfidf_vectorizer.fit(newsgroup.data)\n",
    "ng_tfidf_vec = tfidf_vectorizer.transform(newsgroup.data)\n",
    "np.round(pd.DataFrame(ng_tfidf_vec[:,phone_idx].toarray(),columns=['phone']).sum()[0],3).item()"
   ]
  },
  {
   "cell_type": "markdown",
   "metadata": {},
   "source": [
    "## Questão 1\n",
    "\n",
    "Quais são as regiões (variável `Region`) presentes no _data set_? Retorne uma lista com as regiões únicas do _data set_ com os espaços à frente e atrás da string removidos (mas mantenha pontuação: ponto, hífen etc) e ordenadas em ordem alfabética."
   ]
  },
  {
   "cell_type": "code",
   "execution_count": 99,
   "metadata": {},
   "outputs": [],
   "source": [
    "def q1():\n",
    "    # Retorne aqui o resultado da questão 1.\n",
    "    return list(countries['Region'].sort_values().unique())"
   ]
  },
  {
   "cell_type": "markdown",
   "metadata": {},
   "source": [
    "## Questão 2\n",
    "\n",
    "Discretizando a variável `Pop_density` em 10 intervalos com `KBinsDiscretizer`, seguindo o encode `ordinal` e estratégia `quantile`, quantos países se encontram acima do 90º percentil? Responda como um único escalar inteiro."
   ]
  },
  {
   "cell_type": "code",
   "execution_count": 85,
   "metadata": {},
   "outputs": [],
   "source": [
    "def q2():\n",
    "    # Retorne aqui o resultado da questão 2.\n",
    "    discretizer = KBinsDiscretizer(n_bins=10,encode='ordinal',strategy='quantile')\n",
    "    discretizer.fit(countries[['Pop_density']])\n",
    "    score_bins = discretizer.transform(countries[['Pop_density']])\n",
    "    return int(dis_coutries.groupby('bins').count().loc[9]['Pop_density'])"
   ]
  },
  {
   "cell_type": "markdown",
   "metadata": {},
   "source": [
    "# Questão 3\n",
    "\n",
    "Se codificarmos as variáveis `Region` e `Climate` usando _one-hot encoding_, quantos novos atributos seriam criados? Responda como um único escalar."
   ]
  },
  {
   "cell_type": "code",
   "execution_count": 129,
   "metadata": {},
   "outputs": [],
   "source": [
    "def q3():\n",
    "    q3_df = countries.copy()\n",
    "    imputer = SimpleImputer(missing_values=np.nan,strategy='constant',fill_value=0)\n",
    "    inputed_climate = imputer.fit_transform(countries[['Climate']])\n",
    "    q3_df['Climate'] = inputed_climate\n",
    "    one_hot_encoder = OneHotEncoder(sparse=False, dtype=np.int)\n",
    "    one_hot_encoder.fit_transform(q3_df[['Region']])\n",
    "    att_region = len(one_hot_encoder.categories_[0])\n",
    "    one_hot_encoder.fit_transform(q3_df[['Climate']])\n",
    "    att_climate = len(one_hot_encoder.categories_[0])\n",
    "    return (att_climate + att_region)"
   ]
  },
  {
   "cell_type": "markdown",
   "metadata": {},
   "source": [
    "## Questão 4\n",
    "\n",
    "Aplique o seguinte _pipeline_:\n",
    "\n",
    "1. Preencha as variáveis do tipo `int64` e `float64` com suas respectivas medianas.\n",
    "2. Padronize essas variáveis.\n",
    "\n",
    "Após aplicado o _pipeline_ descrito acima aos dados (somente nas variáveis dos tipos especificados), aplique o mesmo _pipeline_ (ou `ColumnTransformer`) ao dado abaixo. Qual o valor da variável `Arable` após o _pipeline_? Responda como um único float arredondado para três casas decimais."
   ]
  },
  {
   "cell_type": "code",
   "execution_count": 10,
   "metadata": {},
   "outputs": [],
   "source": [
    "test_country = [\n",
    "    'Test Country', 'NEAR EAST', -0.19032480757326514,\n",
    "    -0.3232636124824411, -0.04421734470810142, -0.27528113360605316,\n",
    "    0.13255850810281325, -0.8054845935643491, 1.0119784924248225,\n",
    "    0.6189182532646624, 1.0074863283776458, 0.20239896852403538,\n",
    "    -0.043678728558593366, -0.13929748680369286, 1.3163604645710438,\n",
    "    -0.3699637766938669, -0.6149300604558857, -0.854369594993175,\n",
    "    0.263445277972641, 0.5712416961268142\n",
    "]"
   ]
  },
  {
   "cell_type": "code",
   "execution_count": 332,
   "metadata": {},
   "outputs": [],
   "source": [
    "def q4():\n",
    "    #create test DF\n",
    "    df_test = pd.DataFrame([test_country],columns=countries.columns)\n",
    "\n",
    "    #select numeric columns\n",
    "    num_columns = countries.select_dtypes(include=['int64','float64']).columns\n",
    "\n",
    "    #create numeric pipeline\n",
    "    num_pipe = Pipeline(steps=[\n",
    "        ('imputer',SimpleImputer(strategy='median')),\n",
    "        ('standard',StandardScaler())\n",
    "    ])\n",
    "\n",
    "    #create a preprocessor in numeric columns\n",
    "    preprocessor = ColumnTransformer(transformers=[\n",
    "        ('numeric_feature',num_pipe,num_columns)\n",
    "    ])\n",
    "\n",
    "    #fit preprocessor in train df\n",
    "    fit_pre = preprocessor.fit(countries)\n",
    "\n",
    "    #apply preprocessor in test df\n",
    "    test_result = fit_pre.transform(df_test)\n",
    "    return round(test_result[0][9],3)"
   ]
  },
  {
   "cell_type": "markdown",
   "metadata": {},
   "source": [
    "## Questão 5\n",
    "\n",
    "Descubra o número de _outliers_ da variável `Net_migration` segundo o método do _boxplot_, ou seja, usando a lógica:\n",
    "\n",
    "$$x \\notin [Q1 - 1.5 \\times \\text{IQR}, Q3 + 1.5 \\times \\text{IQR}] \\Rightarrow x \\text{ é outlier}$$\n",
    "\n",
    "que se encontram no grupo inferior e no grupo superior.\n",
    "\n",
    "Você deveria remover da análise as observações consideradas _outliers_ segundo esse método? Responda como uma tupla de três elementos `(outliers_abaixo, outliers_acima, removeria?)` ((int, int, bool))."
   ]
  },
  {
   "cell_type": "code",
   "execution_count": 346,
   "metadata": {},
   "outputs": [],
   "source": [
    "def q5():\n",
    "    net_migration = countries.Net_migration.copy()\n",
    "    qt1 = net_migration.quantile(0.25)\n",
    "    qt3 = net_migration.quantile(0.75)\n",
    "    iqr = qt3 - qt1\n",
    "    non_outlier = [qt1-1.5*iqr,qt3+1.5*iqr]\n",
    "    outliers = (len(net_migration[net_migration<non_outlier[0]]),\n",
    "                len(net_migration[net_migration>non_outlier[1]]), False)\n",
    "    return outliers"
   ]
  },
  {
   "cell_type": "markdown",
   "metadata": {},
   "source": [
    "## Questão 6\n",
    "Para as questões 6 e 7 utilize a biblioteca `fetch_20newsgroups` de datasets de test do `sklearn`\n",
    "\n",
    "Considere carregar as seguintes categorias e o dataset `newsgroups`:\n",
    "\n",
    "```\n",
    "categories = ['sci.electronics', 'comp.graphics', 'rec.motorcycles']\n",
    "newsgroup = fetch_20newsgroups(subset=\"train\", categories=categories, shuffle=True, random_state=42)\n",
    "```\n",
    "\n",
    "\n",
    "Aplique `CountVectorizer` ao _data set_ `newsgroups` e descubra o número de vezes que a palavra _phone_ aparece no corpus. Responda como um único escalar."
   ]
  },
  {
   "cell_type": "code",
   "execution_count": 13,
   "metadata": {},
   "outputs": [],
   "source": [
    "def q6():\n",
    "    count_vectorizer = CountVectorizer()\n",
    "    newsgroup_counts = count_vectorizer.fit_transform(newsgroup.data)\n",
    "    phone_idx = count_vectorizer.vocabulary_.get('phone')\n",
    "    phone = pd.DataFrame(newsgroup_counts[:,phone_idx].toarray(),columns=['phone']).sum()[0]\n",
    "    return phone"
   ]
  },
  {
   "cell_type": "markdown",
   "metadata": {},
   "source": [
    "## Questão 7\n",
    "\n",
    "Aplique `TfidfVectorizer` ao _data set_ `newsgroups` e descubra o TF-IDF da palavra _phone_. Responda como um único escalar arredondado para três casas decimais."
   ]
  },
  {
   "cell_type": "code",
   "execution_count": 375,
   "metadata": {},
   "outputs": [
    {
     "data": {
      "text/plain": "8.888"
     },
     "execution_count": 375,
     "metadata": {},
     "output_type": "execute_result"
    }
   ],
   "source": [
    "def q7():\n",
    "    count_vectorizer = CountVectorizer()\n",
    "    newsgroup_counts = count_vectorizer.fit_transform(newsgroup.data)\n",
    "    phone_idx = count_vectorizer.vocabulary_.get('phone')\n",
    "    tfidf_vectorizer = TfidfVectorizer()\n",
    "    tfidf_vectorizer.fit(newsgroup.data)\n",
    "    ng_tfidf_vec = tfidf_vectorizer.transform(newsgroup.data)\n",
    "    tfidf_phone = np.round(pd.DataFrame(ng_tfidf_vec[:,phone_idx].toarray(),columns=['phone']).sum()[0],3).item() \n",
    "    return tfidf_phone\n",
    "q7()"
   ]
  }
 ],
 "metadata": {
  "kernelspec": {
   "display_name": "Python 3.7.4 64-bit ('modulo07')",
   "language": "python",
   "name": "python37464bitmodulo07029ce3caeb0b4c6bbd300c238eb7a7d1"
  },
  "language_info": {
   "codemirror_mode": {
    "name": "ipython",
    "version": 3
   },
   "file_extension": ".py",
   "mimetype": "text/x-python",
   "name": "python",
   "nbconvert_exporter": "python",
   "pygments_lexer": "ipython3",
   "version": "3.7.4-final"
  }
 },
 "nbformat": 4,
 "nbformat_minor": 2
}